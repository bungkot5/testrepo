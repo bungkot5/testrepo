{
 "cells": [
  {
   "cell_type": "markdown",
   "id": "f81c8ec9-9dc8-42f6-bff5-0adc0d7bcf68",
   "metadata": {},
   "source": [
    "Lab exercise for notebok"
   ]
  },
  {
   "cell_type": "code",
   "execution_count": 1,
   "id": "4d03cba3-631c-43c8-9794-2f1193e55d01",
   "metadata": {},
   "outputs": [
    {
     "data": {
      "text/plain": [
       "4"
      ]
     },
     "execution_count": 1,
     "metadata": {},
     "output_type": "execute_result"
    }
   ],
   "source": [
    "2+2"
   ]
  },
  {
   "cell_type": "code",
   "execution_count": null,
   "id": "bb984b0f-e8c8-40d0-99d0-c53b567b1673",
   "metadata": {},
   "outputs": [],
   "source": []
  }
 ],
 "metadata": {
  "kernelspec": {
   "display_name": "Python",
   "language": "python",
   "name": "conda-env-python-py"
  },
  "language_info": {
   "codemirror_mode": {
    "name": "ipython",
    "version": 3
   },
   "file_extension": ".py",
   "mimetype": "text/x-python",
   "name": "python",
   "nbconvert_exporter": "python",
   "pygments_lexer": "ipython3",
   "version": "3.6.13"
  }
 },
 "nbformat": 4,
 "nbformat_minor": 5
}
